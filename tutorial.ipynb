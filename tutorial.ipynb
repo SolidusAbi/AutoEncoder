{
 "cells": [
  {
   "cell_type": "code",
   "execution_count": 5,
   "metadata": {},
   "outputs": [],
   "source": [
    "import sys, os\n",
    "\n",
    "project_dir = os.path.normpath(os.path.join(os.getcwd(), './'))\n",
    "if project_dir not in sys.path:\n",
    "    sys.path.append(project_dir)\n",
    "\n",
    "ipdl_module_dir = os.path.join(project_dir, 'modules/IPDL')\n",
    "if ipdl_module_dir not in sys.path:\n",
    "    sys.path.append(ipdl_module_dir)"
   ]
  },
  {
   "cell_type": "code",
   "execution_count": 11,
   "metadata": {},
   "outputs": [],
   "source": [
    "from autoencoder import SDAE, SDAE_TYPE\n",
    "\n",
    "sdae = SDAE([1, 6, 12, 24], SDAE_TYPE.conv)"
   ]
  },
  {
   "cell_type": "code",
   "execution_count": 13,
   "metadata": {},
   "outputs": [
    {
     "data": {
      "text/plain": [
       "torch.Size([1, 1, 28, 28])"
      ]
     },
     "execution_count": 13,
     "metadata": {},
     "output_type": "execute_result"
    }
   ],
   "source": [
    "import torch\n",
    "test = torch.rand((1, 1, 28, 28))\n",
    "\n",
    "sdae(test).shape"
   ]
  }
 ],
 "metadata": {
  "interpreter": {
   "hash": "7517fabafd807229b53d6e3988ebf437f182cf94c3f9961b2673e680fbf3e23c"
  },
  "kernelspec": {
   "display_name": "Python 3.7.11 64-bit ('ThermalAnalysis': conda)",
   "language": "python",
   "name": "python3"
  },
  "language_info": {
   "codemirror_mode": {
    "name": "ipython",
    "version": 3
   },
   "file_extension": ".py",
   "mimetype": "text/x-python",
   "name": "python",
   "nbconvert_exporter": "python",
   "pygments_lexer": "ipython3",
   "version": "3.7.11"
  },
  "orig_nbformat": 4
 },
 "nbformat": 4,
 "nbformat_minor": 2
}
